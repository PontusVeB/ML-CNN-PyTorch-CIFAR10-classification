{
 "cells": [
  {
   "cell_type": "markdown",
   "id": "1ded22ca-156e-46df-a64c-6af4af56840d",
   "metadata": {},
   "source": [
    "# About:"
   ]
  },
  {
   "cell_type": "markdown",
   "id": "41dfcba0-2245-4ae2-a9b6-094849e78636",
   "metadata": {},
   "source": [
    "### This project show usage of pytorch in machine learning project:\n",
    "###### 1. using public models (adjusted for our purposes - > number of output classes)\n",
    "###### 2. creating own custom CNN models (TinyVGG and Custom CNN)\n",
    "###### 3. looping throught several parameters to create models and tract their performance (saving models, exporting results in excel)\n",
    "###### 4. plotting acc/loss curves for best models\n",
    "###### 5. Making predictions on randomly chosen 9 pics using best model chosen"
   ]
  },
  {
   "cell_type": "markdown",
   "id": "d64437fb-3bbf-4f89-9018-162769a0afe8",
   "metadata": {},
   "source": [
    "## 1. Base Imports"
   ]
  },
  {
   "cell_type": "code",
   "execution_count": 1,
   "id": "1ba6a1a7-32a6-4e1b-ba70-4dc7b6ab2024",
   "metadata": {},
   "outputs": [],
   "source": [
    "import torch\n",
    "import torchvision\n",
    "from pathlib import Path\n",
    "import numpy as np\n",
    "import pandas as pd\n",
    "import os\n",
    "import random\n",
    "import matplotlib.pyplot as plt\n",
    "\n",
    "from torchinfo import summary\n",
    "from torchvision import datasets\n",
    "from torchvision.transforms import ToTensor, Normalize, Compose\n",
    "from torch import nn\n",
    "from torch.utils.data import DataLoader, Subset"
   ]
  },
  {
   "cell_type": "markdown",
   "id": "5e930c16-5e35-4dab-a4b0-0b415248baf1",
   "metadata": {},
   "source": [
    "#### check versions"
   ]
  },
  {
   "cell_type": "code",
   "execution_count": 2,
   "id": "dc352b28-3bb3-4849-ac7d-1ba201e6eefa",
   "metadata": {},
   "outputs": [
    {
     "name": "stdout",
     "output_type": "stream",
     "text": [
      "1.13.1+cpu\n",
      "0.14.1+cpu\n"
     ]
    }
   ],
   "source": [
    "print(torch.__version__)\n",
    "print(torchvision.__version__)"
   ]
  },
  {
   "cell_type": "markdown",
   "id": "c90b3f67-3c71-4abe-b325-b79a88be474a",
   "metadata": {},
   "source": [
    "#### device agnostic code"
   ]
  },
  {
   "cell_type": "code",
   "execution_count": 3,
   "id": "e152b6b4-d4f0-42d7-85bd-08deda58543e",
   "metadata": {},
   "outputs": [
    {
     "name": "stdout",
     "output_type": "stream",
     "text": [
      "our device is: cpu\n"
     ]
    }
   ],
   "source": [
    "device = \"cuda\" if torch.cuda.is_available() else \"cpu\"\n",
    "print(f\"our device is: {device}\")"
   ]
  },
  {
   "cell_type": "markdown",
   "id": "6d0d5d0d-0e63-472a-9159-5b67a144a764",
   "metadata": {},
   "source": [
    "## 2. Paths"
   ]
  },
  {
   "cell_type": "code",
   "execution_count": 4,
   "id": "df05304c-9222-46e0-8786-9be6bfe9381d",
   "metadata": {},
   "outputs": [],
   "source": [
    "CWD = Path.cwd()\n",
    "#folder when we store our train and test data\n",
    "DATA = CWD / \"DATA\"\n",
    "DATA.mkdir(parents=True, exist_ok=True)\n",
    "#folder to save models created/ tested\n",
    "MODELS = CWD/ \"MODELS\"\n",
    "MODELS.mkdir(parents=True, exist_ok=True)\n",
    "#folder to store .py scripts for uses in this and other projects\n",
    "MODULES = CWD/ \"MODULES\"\n",
    "MODULES.mkdir(parents=True, exist_ok=True)\n",
    "#output folder for some charts/excels\n",
    "OUTPUT = CWD/ \"OUTPUT\"\n",
    "OUTPUT.mkdir(parents=True, exist_ok=True)\n"
   ]
  },
  {
   "cell_type": "markdown",
   "id": "3f16cc94-d033-4087-909a-8f3762da1ca0",
   "metadata": {},
   "source": [
    "## 3. Custom Created methods --> to save in CWD / MODULES for further use"
   ]
  },
  {
   "cell_type": "code",
   "execution_count": 5,
   "id": "90c35feb-cc9c-45b4-9ea2-d1cf2be81214",
   "metadata": {},
   "outputs": [
    {
     "name": "stdout",
     "output_type": "stream",
     "text": [
      "Overwriting MODULES/myModels.py\n"
     ]
    }
   ],
   "source": [
    "%%writefile MODULES/myModels.py\n",
    "import torch\n",
    "from torch import nn\n",
    "import torch.nn.functional as F\n",
    "\n",
    "class TinyVGG(nn.Module):\n",
    "    \"\"\"\n",
    "      Replicates the TinyVGG architecture from the CNN explainer website in PyTorch.\n",
    "      https://poloclub.github.io/cnn-explainer/\n",
    "\n",
    "      Args:\n",
    "        input_shape: An integer indicating number of input channels.\n",
    "        hidden_units: An integer indicating number of hidden units between layers.\n",
    "        output_shape: An integer indicating number of output units.\n",
    "    \"\"\"\n",
    "    def __init__(self, input_shape: int, hidden_units: int, output_shape: int) -> None:\n",
    "        super().__init__()\n",
    "        self.conv_block_1 = nn.Sequential(\n",
    "            nn.Conv2d(in_channels=input_shape,\n",
    "                      out_channels=hidden_units,\n",
    "                      kernel_size=3,\n",
    "                      stride=1, # default\n",
    "                      padding=0),\n",
    "            nn.ReLU(),\n",
    "            nn.Conv2d(in_channels=hidden_units,\n",
    "                      out_channels=hidden_units,\n",
    "                      kernel_size=3,\n",
    "                      stride=1,\n",
    "                      padding=0),\n",
    "            nn.ReLU(),\n",
    "            nn.MaxPool2d(kernel_size=2,\n",
    "                         stride=2)\n",
    "        )\n",
    "        \n",
    "        self.conv_block_2 = nn.Sequential(\n",
    "            nn.Conv2d(in_channels=hidden_units,\n",
    "                      out_channels=hidden_units,\n",
    "                      kernel_size=3,\n",
    "                      padding=0),\n",
    "            nn.ReLU(),\n",
    "            nn.Conv2d(in_channels=hidden_units,\n",
    "                      out_channels=hidden_units,\n",
    "                      kernel_size=3,\n",
    "                      padding=0),\n",
    "            nn.ReLU(),\n",
    "            nn.MaxPool2d(kernel_size=2)\n",
    "        )\n",
    "        \n",
    "        self.classifier = nn.Sequential(\n",
    "            nn.Flatten(),\n",
    "            nn.Linear(in_features=hidden_units*5*5,\n",
    "                      out_features=output_shape)\n",
    "        )\n",
    "    \n",
    "    def forward(self, x: torch.Tensor):\n",
    "        x=self.conv_block_1(x)\n",
    "        x=self.conv_block_2(x)\n",
    "        x=self.classifier(x)\n",
    "        return x\n",
    "\n",
    "class CustomCNN(nn.Module):\n",
    "    def __init__(self):\n",
    "        super().__init__()\n",
    "        self.conv1 = nn.Conv2d(3,16,3,1, padding=1)\n",
    "        self.conv2 = nn.Conv2d(16,32,3,1,padding=1)\n",
    "        self.conv3 = nn.Conv2d(32,64,3,1, padding=1)\n",
    "        self.fc1 = nn.Linear(4*4*64,500)\n",
    "        self.dropout1 = nn.Dropout(0.2)\n",
    "        self.fc2 = nn.Linear(500,10)\n",
    "        \n",
    "    def forward(self,x):\n",
    "        x = F.relu(self.conv1(x))\n",
    "        x = F.max_pool2d(x,2,2)\n",
    "        x = F.relu(self.conv2(x))\n",
    "        x = F.max_pool2d(x,2,2)\n",
    "        x = F.relu(self.conv3(x))\n",
    "        x = F.max_pool2d(x,2,2)\n",
    "        x = x.view(-1, 4*4*64)\n",
    "        x = F.relu(self.fc1(x))\n",
    "        x = self.dropout1(x)\n",
    "        x = self.fc2(x)\n",
    "        return x"
   ]
  },
  {
   "cell_type": "code",
   "execution_count": 6,
   "id": "fa789c68-576d-497f-9992-d9ff772859b1",
   "metadata": {},
   "outputs": [
    {
     "name": "stdout",
     "output_type": "stream",
     "text": [
      "Overwriting MODULES/train_engine.py\n"
     ]
    }
   ],
   "source": [
    "%%writefile MODULES/train_engine.py\n",
    "#implements functionality to train and test model\n",
    "from typing import Dict,List, Tuple\n",
    "import torch\n",
    "from tqdm.auto import tqdm\n",
    "\n",
    "def train_step(model: torch.nn.Module, \n",
    "               dataloader: torch.utils.data.DataLoader, \n",
    "               loss_fn: torch.nn.Module, \n",
    "               optimizer: torch.optim.Optimizer,\n",
    "               device: torch.device) -> Tuple[float, float]:\n",
    "    \"\"\"Trains a PyTorch model for a single epoch.\n",
    "\n",
    "      Turns a target PyTorch model to training mode and then\n",
    "      runs through all of the required training steps (forward\n",
    "      pass, loss calculation, optimizer step).\n",
    "\n",
    "      Args:\n",
    "        model: A PyTorch model to be trained.\n",
    "        dataloader: A DataLoader instance for the model to be trained on.\n",
    "        loss_fn: A PyTorch loss function to minimize.\n",
    "        optimizer: A PyTorch optimizer to help minimize the loss function.\n",
    "        device: A target device to compute on (e.g. \"cuda\" or \"cpu\").\n",
    "\n",
    "      Returns:\n",
    "        A tuple of training loss and training accuracy metrics.\n",
    "        In the form (train_loss, train_accuracy). For example:\n",
    "\n",
    "        (0.1112, 0.8743)\n",
    "      \"\"\"\n",
    "    model.train()\n",
    "    \n",
    "    # Setup train loss and train accuracy values\n",
    "    train_loss, train_acc = 0, 0\n",
    "    \n",
    "    # Loop through data loader data batches\n",
    "    for batch, (X, y) in enumerate(dataloader):\n",
    "        X, y = X.to(device), y.to(device)\n",
    "        \n",
    "        # 1. Forward pass\n",
    "        y_pred = model(X)\n",
    "        \n",
    "        # 2. Calculate  and accumulate loss\n",
    "        loss = loss_fn(y_pred, y)\n",
    "        train_loss += loss.item()\n",
    "        \n",
    "        # 3. Optimizer zero grad\n",
    "        optimizer.zero_grad()\n",
    "        \n",
    "        # 4. Loss backward\n",
    "        loss.backward()\n",
    "        \n",
    "        # 5. Optimizer step\n",
    "        optimizer.step()\n",
    "        \n",
    "        # Calculate and accumulate accuracy metric across all batches\n",
    "        y_pred_class = torch.argmax(torch.softmax(y_pred, dim=1), dim=1)\n",
    "        train_acc += (y_pred_class == y).sum().item()/len(y_pred)\n",
    "        \n",
    "    # Adjust metrics to get average loss and accuracy per batch\n",
    "    train_loss = train_loss / len(dataloader)\n",
    "    train_acc = train_acc / len(dataloader)\n",
    "    return train_loss, train_acc\n",
    "\n",
    "\n",
    "def test_step(model: torch.nn.Module, \n",
    "              dataloader: torch.utils.data.DataLoader, \n",
    "              loss_fn: torch.nn.Module,\n",
    "              device: torch.device) -> Tuple[float, float]:\n",
    "    \"\"\"Tests a PyTorch model for a single epoch.\n",
    "    Turns a target PyTorch model to \"eval\" mode and then performs a forward pass on a testing dataset.\n",
    "    Args:\n",
    "    model: A PyTorch model to be tested.\n",
    "    dataloader: A DataLoader instance for the model to be tested on.\n",
    "    loss_fn: A PyTorch loss function to calculate loss on the test data.\n",
    "    device: A target device to compute on (e.g. \"cuda\" or \"cpu\").\n",
    "    Returns:\n",
    "    A tuple of testing loss and testing accuracy metrics.\n",
    "    In the form (test_loss, test_accuracy). For example:(0.0223, 0.8985)\n",
    "    \"\"\"\n",
    "    # Put model in eval mode\n",
    "    model.eval()\n",
    "    # Setup test loss and test accuracy values\n",
    "    test_loss, test_acc = 0, 0\n",
    "    # Turn on inference context manager\n",
    "    with torch.inference_mode():\n",
    "        # Loop through DataLoader batches\n",
    "        for batch, (X, y) in enumerate(dataloader):\n",
    "            # Send data to target device\n",
    "            X, y = X.to(device), y.to(device)\n",
    "            # 1. Forward pass\n",
    "            test_pred_logits = model(X)\n",
    "            # 2. Calculate and accumulate loss\n",
    "            loss = loss_fn(test_pred_logits, y)\n",
    "            test_loss += loss.item()\n",
    "            # Calculate and accumulate accuracy\n",
    "            test_pred_labels = test_pred_logits.argmax(dim=1)\n",
    "            test_acc += ((test_pred_labels == y).sum().item()/len(test_pred_labels))\n",
    "    # Adjust metrics to get average loss and accuracy per batch\n",
    "    test_loss = test_loss / len(dataloader)\n",
    "    test_acc = test_acc / len(dataloader)\n",
    "    return test_loss, test_acc\n",
    "\n",
    "\n",
    "def train(model: torch.nn.Module, \n",
    "          train_dataloader: torch.utils.data.DataLoader, \n",
    "          test_dataloader: torch.utils.data.DataLoader, \n",
    "          optimizer: torch.optim.Optimizer,\n",
    "          loss_fn: torch.nn.Module,\n",
    "          epochs: int,\n",
    "          device: torch.device) -> Dict[str, List[float]]:\n",
    "    \n",
    "    \"\"\"Trains and tests a PyTorch model.\n",
    "    Passes a target PyTorch models through train_step() and test_step()\n",
    "    functions for a number of epochs, training and testing the model\n",
    "    in the same epoch loop.\n",
    "    Calculates, prints and stores evaluation metrics throughout.\n",
    "    Args:\n",
    "    model: A PyTorch model to be trained and tested.\n",
    "    train_dataloader: A DataLoader instance for the model to be trained on.\n",
    "    test_dataloader: A DataLoader instance for the model to be tested on.\n",
    "    optimizer: A PyTorch optimizer to help minimize the loss function.\n",
    "    loss_fn: A PyTorch loss function to calculate loss on both datasets.\n",
    "    epochs: An integer indicating how many epochs to train for.\n",
    "    device: A target device to compute on (e.g. \"cuda\" or \"cpu\").\n",
    "    Returns:\n",
    "    A dictionary of training and testing loss as well as training and\n",
    "    testing accuracy metrics. Each metric has a value in a list for \n",
    "    each epoch.\n",
    "    In the form: {train_loss: [...],\n",
    "                  train_acc: [...],\n",
    "                  test_loss: [...],\n",
    "                  test_acc: [...]} \n",
    "    For example if training for epochs=2: \n",
    "                 {train_loss: [2.0616, 1.0537],\n",
    "                  train_acc: [0.3945, 0.3945],\n",
    "                  test_loss: [1.2641, 1.5706],\n",
    "                  test_acc: [0.3400, 0.2973]}\n",
    "    \"\"\"\n",
    "    # Create empty results dictionary\n",
    "    results = {\"train_loss\": [],\n",
    "               \"train_acc\": [],\n",
    "               \"test_loss\": [],\n",
    "               \"test_acc\": []\n",
    "              }\n",
    "    # Loop through training and testing steps for a number of epochs\n",
    "    for epoch in tqdm(range(epochs)):\n",
    "        train_loss, train_acc = train_step(model=model,\n",
    "                                           dataloader=train_dataloader,\n",
    "                                           loss_fn=loss_fn,\n",
    "                                           optimizer=optimizer,\n",
    "                                           device=device)\n",
    "        test_loss, test_acc = test_step(model=model,\n",
    "                                        dataloader=test_dataloader,\n",
    "                                        loss_fn=loss_fn,\n",
    "                                        device=device)\n",
    "        # Print out what's happening\n",
    "        print(\n",
    "          f\"Epoch: {epoch+1} | \"\n",
    "          f\"train_loss: {train_loss:.4f} | \"\n",
    "          f\"train_acc: {train_acc:.4f} | \"\n",
    "          f\"test_loss: {test_loss:.4f} | \"\n",
    "          f\"test_acc: {test_acc:.4f}\"\n",
    "        )\n",
    "        # Update results dictionary\n",
    "        results[\"train_loss\"].append(train_loss)\n",
    "        results[\"train_acc\"].append(train_acc)\n",
    "        results[\"test_loss\"].append(test_loss)\n",
    "        results[\"test_acc\"].append(test_acc)\n",
    "\n",
    "    return results"
   ]
  },
  {
   "cell_type": "code",
   "execution_count": 7,
   "id": "12ab277d-c779-402b-a155-55aa467874f0",
   "metadata": {},
   "outputs": [
    {
     "name": "stdout",
     "output_type": "stream",
     "text": [
      "Overwriting MODULES/utils.py\n"
     ]
    }
   ],
   "source": [
    "%%writefile MODULES/utils.py\n",
    "import torch\n",
    "from pathlib import Path\n",
    "from typing import Dict,List\n",
    "import matplotlib.pyplot as plt\n",
    "import pandas as pd\n",
    "\n",
    "def save_model(model: torch.nn.Module,\n",
    "               target_dir: str,\n",
    "               model_name: str):\n",
    "    \"\"\"Saves a PyTorch model to a target directory.\n",
    "\n",
    "    Args:\n",
    "    model: A target PyTorch model to save.\n",
    "    target_dir: A directory for saving the model to.\n",
    "    model_name: A filename for the saved model. Should include\n",
    "      either \".pth\" or \".pt\" as the file extension.\n",
    "\n",
    "    Example usage:\n",
    "    save_model(model=model_0,\n",
    "               target_dir=\"models\",\n",
    "               model_name=\"05_going_modular_tingvgg_model.pth\")\n",
    "    \"\"\"\n",
    "    # Create target directory\n",
    "    target_dir_path = Path(target_dir)\n",
    "    target_dir_path.mkdir(parents=True,exist_ok=True)\n",
    "\n",
    "    # Create model save path\n",
    "    assert model_name.endswith(\".pth\") or model_name.endswith(\".pt\"), \"model_name should end with '.pt' or '.pth'\"\n",
    "    model_save_path = target_dir_path / model_name\n",
    "\n",
    "    # Save the model state_dict()\n",
    "    print(f\"[INFO] Saving model to: {model_save_path}\")\n",
    "    torch.save(obj=model.state_dict(),\n",
    "             f=model_save_path)\n",
    "\n",
    "def plot_loss_curves_from_dict(results: Dict[str, List[float]]):\n",
    "    \"\"\"Plots training curves of a results dictionary\"\"\"\n",
    "    #get the loss value of the results dictionary (training and test)\n",
    "    loss = results[\"train_loss\"]\n",
    "    test_loss = results[\"test_loss\"]\n",
    "    \n",
    "    #get the accuracy values of the ruslts dictionary \n",
    "    accuracy = results[\"train_acc\"]\n",
    "    test_accuracy = results[\"test_acc\"]\n",
    "    \n",
    "    #epochs\n",
    "    epochs = range(len(results[\"train_loss\"]))\n",
    "    \n",
    "    #setup a plot\n",
    "    plt.figure(figsize=(15,7))\n",
    "    \n",
    "    #plot the loss\n",
    "    plt.subplot(1,2,1)\n",
    "    plt.plot(epochs, loss, label=\"train_loss\")\n",
    "    plt.plot(epochs, test_loss, label=\"test_loss\")\n",
    "    plt.title(\"Loss\")\n",
    "    plt.xlabel(\"Epochs\")\n",
    "    \n",
    "    #plot the accuracy\n",
    "    plt.subplot(1,2,2)\n",
    "    plt.plot(epochs, accuracy, label=\"train_accuracy\")\n",
    "    plt.plot(epochs, test_accuracy, label=\"test_accuracy\")\n",
    "    plt.title(\"Accuracy\")\n",
    "    plt.xlabel(\"Epochs\")\n",
    "    plt.legend();\n",
    "    \n",
    "def plot_loss_curves_from_df(df_results: pd.DataFrame):\n",
    "    \"\"\"Plots training curves of a results dataframe\"\"\"\n",
    "    \n",
    "    loss = df_results[\"train_loss\"]\n",
    "    test_loss = df_results[\"test_loss\"]\n",
    "    accuracy = df_results[\"train_acc\"]\n",
    "    test_accuracy = df_results[\"test_acc\"]\n",
    "    epochs = df_results[\"epoch\"]\n",
    "    \n",
    "    #setup a plot\n",
    "    plt.figure(figsize=(15,7))\n",
    "    \n",
    "    #plot the loss\n",
    "    plt.subplot(1,2,1)\n",
    "    plt.plot(epochs, loss, label=\"train_loss\")\n",
    "    plt.plot(epochs, test_loss, label=\"test_loss\")\n",
    "    plt.title(\"Loss\")\n",
    "    plt.xlabel(\"Epochs\")\n",
    "    \n",
    "    #plot the accuracy\n",
    "    plt.subplot(1,2,2)\n",
    "    plt.plot(epochs, accuracy, label=\"train_accuracy\")\n",
    "    plt.plot(epochs, test_accuracy, label=\"test_accuracy\")\n",
    "    plt.title(\"Accuracy\")\n",
    "    plt.xlabel(\"Epochs\")\n",
    "    plt.legend();\n",
    "    \n",
    "def make_predictions(model: torch.nn.Module,\n",
    "                    data: list,\n",
    "                    device: torch.device):\n",
    "    pred_probs = []\n",
    "    model.eval()\n",
    "    with torch.inference_mode():\n",
    "        for sample in data:\n",
    "            #prepare the sample (ad a batch simenstion and pass to tergget device)\n",
    "            sample = torch.unsqueeze(sample, dim=0).to(device)\n",
    "            \n",
    "            #forward pass ( model outputs raw logits)\n",
    "            pred_logit= model(sample)\n",
    "            \n",
    "            #get prediction probability (logit -> prediction probability)\n",
    "            pred_prob = torch.softmax(pred_logit.squeeze(), dim=0)\n",
    "            \n",
    "            #get pred_prob off the GPU for further calculations\n",
    "            pred_probs.append(pred_prob.cpu())\n",
    "            \n",
    "    #stack the pred_probs and turn list into a tensor        \n",
    "    return torch.stack(pred_probs)"
   ]
  },
  {
   "cell_type": "markdown",
   "id": "a12cc307-bd74-41b7-a481-f3c9c95ff6b5",
   "metadata": {},
   "source": [
    "## 4. Datasets"
   ]
  },
  {
   "cell_type": "code",
   "execution_count": 8,
   "id": "ac36f9a4-8d7a-4d3a-802d-00434c5d1dc3",
   "metadata": {},
   "outputs": [],
   "source": [
    "class_dict = {'plane': 0, 'car': 1, 'bird': 2, 'cat': 3, 'deer': 4,\n",
    "             'dog': 5, 'frog': 6, 'horse': 7, 'ship': 8, 'truck': 9}"
   ]
  },
  {
   "cell_type": "markdown",
   "id": "fdd12d61-2708-4d91-ac6c-3bf7951536b4",
   "metadata": {},
   "source": [
    "## 4.1 import and transform the data"
   ]
  },
  {
   "cell_type": "code",
   "execution_count": 9,
   "id": "9d236602-b260-499c-883b-a31916301119",
   "metadata": {},
   "outputs": [],
   "source": [
    "transform = Compose([\n",
    "    ToTensor(),\n",
    "    Normalize((.5,.5,.5),(.5,.5,.5))\n",
    "])"
   ]
  },
  {
   "cell_type": "code",
   "execution_count": 10,
   "id": "1bf9dd24-5ec0-4ea5-8b85-d96e90ea8fa6",
   "metadata": {},
   "outputs": [
    {
     "name": "stdout",
     "output_type": "stream",
     "text": [
      "Files already downloaded and verified\n"
     ]
    }
   ],
   "source": [
    "#CIFAR DATA from torchvision.datasets --> TRAIN\n",
    "train_data = datasets.CIFAR10(\n",
    "    root=\"DATA\", #our previously created file\n",
    "    train = True,\n",
    "    download=True, \n",
    "    transform = transform,  ## to tensor + normalize\n",
    "    target_transform=None \n",
    ")"
   ]
  },
  {
   "cell_type": "code",
   "execution_count": 66,
   "id": "2bd2a46d-6691-4f82-b7b1-4088157487bb",
   "metadata": {},
   "outputs": [
    {
     "name": "stdout",
     "output_type": "stream",
     "text": [
      "Files already downloaded and verified\n"
     ]
    }
   ],
   "source": [
    "#CIFAR DATA from torchvision.datasets --> TEST\n",
    "test_data = datasets.CIFAR10(\n",
    "    root=\"DATA\", #our previously created file\n",
    "    train = False,\n",
    "    download=True, \n",
    "    transform = transform,  ## to tensor + normalize\n",
    "    target_transform=None \n",
    ")"
   ]
  },
  {
   "cell_type": "code",
   "execution_count": 12,
   "id": "cbef0a0e-ecc9-433d-8507-a18e8484ef65",
   "metadata": {},
   "outputs": [],
   "source": [
    "## Removing zip file if it exists\n",
    "zip_file_patch = DATA/ \"cifar-10-python.tar.gz\"\n",
    "\n",
    "if zip_file_patch.is_file():\n",
    "    os.remove(zip_file_patch)"
   ]
  },
  {
   "cell_type": "markdown",
   "id": "670f8ff2-0823-4154-a94d-64e7c99ef388",
   "metadata": {},
   "source": [
    "### 4.2 take a look at our data"
   ]
  },
  {
   "cell_type": "code",
   "execution_count": 13,
   "id": "35c3a071-768f-46a0-9bae-b94713db43e1",
   "metadata": {},
   "outputs": [
    {
     "name": "stdout",
     "output_type": "stream",
     "text": [
      "Image shape: torch.Size([3, 32, 32]) -> [color_channels, height, width]\n",
      "Class name: frog, class number: 6 \n"
     ]
    }
   ],
   "source": [
    "class_to_idx = train_data.class_to_idx\n",
    "class_names = train_data.classes\n",
    "\n",
    "#ToTensor convers PIL Image to torch FLoat tensor (C x H x W)\n",
    "image, label = train_data[0]\n",
    "print(f\"Image shape: {image.shape} -> [color_channels, height, width]\")\n",
    "print(f\"Class name: {class_names[label]}, class number: {label} \")"
   ]
  },
  {
   "cell_type": "markdown",
   "id": "e9863a9c-9669-470b-9273-a56a6c0264f8",
   "metadata": {},
   "source": [
    "### 4.3 Visualize"
   ]
  },
  {
   "cell_type": "code",
   "execution_count": 14,
   "id": "7c67ec3a-b0a6-4136-a0f1-ad19735fb2e4",
   "metadata": {},
   "outputs": [
    {
     "name": "stdout",
     "output_type": "stream",
     "text": [
      "Permuted image shape: torch.Size([32, 32, 3])\n"
     ]
    }
   ],
   "source": [
    "#rearrange the order dimension\n",
    "img_permuted = image.permute(1,2,0)\n",
    "print(f\"Permuted image shape: {img_permuted.shape}\")"
   ]
  },
  {
   "cell_type": "code",
   "execution_count": 15,
   "id": "afe5d791-2767-4a20-9daa-ab00b65124a0",
   "metadata": {},
   "outputs": [
    {
     "name": "stderr",
     "output_type": "stream",
     "text": [
      "Clipping input data to the valid range for imshow with RGB data ([0..1] for floats or [0..255] for integers).\n"
     ]
    },
    {
     "data": {
      "text/plain": [
       "Text(0.5, 1.0, 'frog')"
      ]
     },
     "execution_count": 15,
     "metadata": {},
     "output_type": "execute_result"
    },
    {
     "data": {
      "image/png": "[encoded data removed]",
      "text/plain": [
       "<Figure size 432x288 with 1 Axes>"
      ]
     },
     "metadata": {
      "needs_background": "light"
     },
     "output_type": "display_data"
    }
   ],
   "source": [
    "plt.imshow(img_permuted)\n",
    "plt.title(class_names[label])"
   ]
  },
  {
   "cell_type": "markdown",
   "id": "8ddab65a-274d-4782-8aa7-d7046e20bc9a",
   "metadata": {},
   "source": [
    "### 4.4 Binary classification subset (only 2 out of all 10 CIFAR10 classess)\n",
    "as our first model VGG is not much comples I'll create a subset of all CIFAR data to perform binary classification (two classes). \n",
    "Let's train a model to learn to recognize the difference between only two classes eg. plane vs birds"
   ]
  },
  {
   "cell_type": "code",
   "execution_count": 75,
   "id": "8ac18f2c-1313-40b0-bce2-768890bac06a",
   "metadata": {},
   "outputs": [],
   "source": [
    "#picking up indexes with wanted 2 targets\n",
    "search_train_idx = np.where((np.array(train_data.targets) == 0) | (np.array(train_data.targets) == 2))[0]\n",
    "search_test_test_idx = np.where((np.array(test_data.targets) == 0) | (np.array(test_data.targets) == 2))[0]\n",
    "#create subsets based on indexes with wanted indexes (0 and 2 -> plane and birds)\n",
    "train_data_binary = Subset(train_data, search_train_idx)\n",
    "test_data_binary = Subset(test_data, search_test_test_idx)"
   ]
  },
  {
   "cell_type": "markdown",
   "id": "d7891e67-9457-4f01-b745-afb4f03d2198",
   "metadata": {},
   "source": [
    "## 5. Create dataloaders"
   ]
  },
  {
   "cell_type": "code",
   "execution_count": 17,
   "id": "4decbe70-d227-43ab-bb77-4b10387ddccd",
   "metadata": {},
   "outputs": [],
   "source": [
    "BATCH_SIZE = 32\n",
    "NUM_WORKERS = os.cpu_count()"
   ]
  },
  {
   "cell_type": "markdown",
   "id": "067e07e6-8b0e-4a47-9076-e7f7d127448e",
   "metadata": {},
   "source": [
    "### 5.1 Full CIFAR10 data dataloader"
   ]
  },
  {
   "cell_type": "code",
   "execution_count": 18,
   "id": "faf3392b-ab47-4ce1-8501-47d33bc066ce",
   "metadata": {},
   "outputs": [],
   "source": [
    "train_dataloader_full_data= DataLoader(dataset=train_data,\n",
    "                             batch_size=BATCH_SIZE,\n",
    "                             shuffle=True,\n",
    "                            num_workers=NUM_WORKERS)\n",
    "test_dataloader_full_data = DataLoader(dataset=test_data,\n",
    "                             batch_size=BATCH_SIZE,\n",
    "                             shuffle=False,\n",
    "                            num_workers=NUM_WORKERS)"
   ]
  },
  {
   "cell_type": "code",
   "execution_count": 19,
   "id": "2c90f523-f26d-4d7a-a140-50b41b879115",
   "metadata": {},
   "outputs": [
    {
     "name": "stdout",
     "output_type": "stream",
     "text": [
      "DataLoaders: (<torch.utils.data.dataloader.DataLoader object at 0x000001ECC8AFE790>, <torch.utils.data.dataloader.DataLoader object at 0x000001ECC8AFE940>)\n",
      "length of train_dataloader: 1563 batches of 32\n",
      "length of test_dataLoader: 313 batches of 32\n"
     ]
    }
   ],
   "source": [
    "#print dataloaders\n",
    "print(f\"DataLoaders: {train_dataloader_full_data, test_dataloader_full_data}\")\n",
    "print(f\"length of train_dataloader: {len(train_dataloader_full_data)} batches of {BATCH_SIZE}\")\n",
    "print(f\"length of test_dataLoader: {len(test_dataloader_full_data)} batches of {BATCH_SIZE}\")"
   ]
  },
  {
   "cell_type": "code",
   "execution_count": 20,
   "id": "a8b08a32-900e-498c-9422-8d5aa6615329",
   "metadata": {},
   "outputs": [
    {
     "data": {
      "text/plain": [
       "(torch.Size([32, 3, 32, 32]), torch.Size([32]))"
      ]
     },
     "execution_count": 20,
     "metadata": {},
     "output_type": "execute_result"
    }
   ],
   "source": [
    "#check out whats inside the training dataloader\n",
    "train_features_batch, train_labels_batch = next(iter(train_dataloader_full_data))\n",
    "train_features_batch.shape, train_labels_batch.shape"
   ]
  },
  {
   "cell_type": "code",
   "execution_count": 21,
   "id": "23150da0-7f1e-4989-8c0d-de040ce5f45f",
   "metadata": {},
   "outputs": [],
   "source": [
    "#permute to be able to draw picture\n",
    "train_features_batch_permuted = train_features_batch.permute(0,2,3,1)"
   ]
  },
  {
   "cell_type": "code",
   "execution_count": 22,
   "id": "db207cd1-0ffd-4a68-aa60-6bf13f781771",
   "metadata": {},
   "outputs": [
    {
     "name": "stderr",
     "output_type": "stream",
     "text": [
      "Clipping input data to the valid range for imshow with RGB data ([0..1] for floats or [0..255] for integers).\n"
     ]
    },
    {
     "name": "stdout",
     "output_type": "stream",
     "text": [
      "Image size: torch.Size([32, 32, 3])\n",
      "Label : 4, label size: torch.Size([])\n"
     ]
    },
    {
     "data": {
      "image/png": "[encoded data removed]",
      "text/plain": [
       "<Figure size 432x288 with 1 Axes>"
      ]
     },
     "metadata": {
      "needs_background": "light"
     },
     "output_type": "display_data"
    }
   ],
   "source": [
    "#random sample\n",
    "#torch.manual_seed(42)\n",
    "random_idx = torch.randint(0, len(train_features_batch_permuted), size=[1]).item()\n",
    "img, label = train_features_batch_permuted[random_idx], train_labels_batch[random_idx]\n",
    "\n",
    "plt.imshow(img.squeeze(),cmap=\"gray\")\n",
    "plt.axis(False)\n",
    "plt.title(train_data.classes[label])\n",
    "\n",
    "print(f\"Image size: {img.shape}\")\n",
    "print(f\"Label : {label}, label size: {label.shape}\")"
   ]
  },
  {
   "cell_type": "markdown",
   "id": "3a133b14-f5a4-44c1-90e7-bc0079a76f74",
   "metadata": {},
   "source": [
    "### 5.2 binary_classification CIFAR10 (2 classes) data dataloaders"
   ]
  },
  {
   "cell_type": "code",
   "execution_count": 23,
   "id": "5d0ceb63-5084-4d44-a83f-1a0cb1b0548f",
   "metadata": {},
   "outputs": [],
   "source": [
    "train_dataloader_binary= DataLoader(dataset=train_data_binary,\n",
    "                             batch_size=BATCH_SIZE,\n",
    "                             shuffle=True,\n",
    "                            num_workers=NUM_WORKERS)\n",
    "test_dataloader_binary = DataLoader(dataset=test_data_binary,\n",
    "                             batch_size=BATCH_SIZE,\n",
    "                             shuffle=False,\n",
    "                            num_workers=NUM_WORKERS)"
   ]
  },
  {
   "cell_type": "code",
   "execution_count": 24,
   "id": "17d1fa93-8fc2-4edb-b599-422f30bc2f86",
   "metadata": {},
   "outputs": [
    {
     "data": {
      "text/plain": [
       "(torch.Size([32, 3, 32, 32]), torch.Size([32]))"
      ]
     },
     "execution_count": 24,
     "metadata": {},
     "output_type": "execute_result"
    }
   ],
   "source": [
    "#check out whats inside the training dataloader\n",
    "train_features_batch, train_labels_batch = next(iter(train_dataloader_binary))\n",
    "train_features_batch.shape, train_labels_batch.shape"
   ]
  },
  {
   "cell_type": "code",
   "execution_count": 25,
   "id": "e051c5c7-b166-4ab0-820b-95df1539a773",
   "metadata": {},
   "outputs": [
    {
     "name": "stdout",
     "output_type": "stream",
     "text": [
      "DataLoaders: (<torch.utils.data.dataloader.DataLoader object at 0x000001ECC8D4A2E0>, <torch.utils.data.dataloader.DataLoader object at 0x000001ECC8D4A280>)\n",
      "length of train_dataloader: 313 batches of 32\n",
      "length of test_dataLoader: 63 batches of 32\n"
     ]
    }
   ],
   "source": [
    "#print dataloaders\n",
    "print(f\"DataLoaders: {train_dataloader_binary, test_dataloader_binary}\")\n",
    "print(f\"length of train_dataloader: {len(train_dataloader_binary)} batches of {BATCH_SIZE}\")\n",
    "print(f\"length of test_dataLoader: {len(test_dataloader_binary)} batches of {BATCH_SIZE}\")"
   ]
  },
  {
   "cell_type": "code",
   "execution_count": 26,
   "id": "f60833b5-0391-444e-bc12-2a7e6fc584c7",
   "metadata": {},
   "outputs": [],
   "source": [
    "#permute to be able to draw picture\n",
    "train_features_batch_permuted = train_features_batch.permute(0,2,3,1)"
   ]
  },
  {
   "cell_type": "code",
   "execution_count": 27,
   "id": "c9228590-2481-4dbb-ab8b-2b48e4be1ec6",
   "metadata": {},
   "outputs": [
    {
     "name": "stderr",
     "output_type": "stream",
     "text": [
      "Clipping input data to the valid range for imshow with RGB data ([0..1] for floats or [0..255] for integers).\n"
     ]
    },
    {
     "name": "stdout",
     "output_type": "stream",
     "text": [
      "Image size: torch.Size([32, 32, 3])\n",
      "Label : 2, label size: torch.Size([])\n"
     ]
    },
    {
     "data": {
      "image/png": "[encoded data removed]",
      "text/plain": [
       "<Figure size 432x288 with 1 Axes>"
      ]
     },
     "metadata": {
      "needs_background": "light"
     },
     "output_type": "display_data"
    }
   ],
   "source": [
    "#random sample\n",
    "#torch.manual_seed(42)\n",
    "random_idx = torch.randint(0, len(train_features_batch_permuted), size=[1]).item()\n",
    "img, label = train_features_batch_permuted[random_idx], train_labels_batch[random_idx]\n",
    "\n",
    "plt.imshow(img.squeeze(),cmap=\"gray\")\n",
    "plt.axis(False)\n",
    "plt.title(train_data.classes[label])\n",
    "\n",
    "print(f\"Image size: {img.shape}\")\n",
    "print(f\"Label : {label}, label size: {label.shape}\")"
   ]
  },
  {
   "cell_type": "markdown",
   "id": "30c71c64-e0e1-47f8-ac80-429ea76be131",
   "metadata": {},
   "source": [
    "## 6. Evaluating models on full data dataloaders (10 classes)"
   ]
  },
  {
   "cell_type": "code",
   "execution_count": 28,
   "id": "4bd15dd2-69e6-4158-88cb-1b7472cc1cc3",
   "metadata": {},
   "outputs": [],
   "source": [
    "from MODULES.myModels import TinyVGG, CustomCNN\n",
    "from MODULES import train_engine\n",
    "from MODULES.utils import plot_loss_curves_from_df, plot_loss_curves_from_dict, save_model, make_predictions"
   ]
  },
  {
   "cell_type": "markdown",
   "id": "dc55a155-b360-412b-bea6-cc0373b39fd3",
   "metadata": {},
   "source": [
    "### 6.1 TinyVGG model"
   ]
  },
  {
   "cell_type": "code",
   "execution_count": 29,
   "id": "213a3765-b6ab-4c4e-9609-e2f6206d33b2",
   "metadata": {},
   "outputs": [],
   "source": [
    "HIDDEN_UNITS = 10"
   ]
  },
  {
   "cell_type": "code",
   "execution_count": 30,
   "id": "7ebc8af9-cdf2-4779-901b-073aeb5717e1",
   "metadata": {},
   "outputs": [],
   "source": [
    "model_TinyVGG = TinyVGG(input_shape=3, # because of 3 dimensions of our date height, width, color\n",
    "                hidden_units=HIDDEN_UNITS,\n",
    "                output_shape=len(class_names)).to(device)"
   ]
  },
  {
   "cell_type": "markdown",
   "id": "e57d40c6-724b-4c99-bec6-fa32ae5bcfd8",
   "metadata": {},
   "source": [
    "### 6.1 CustomCNN Model"
   ]
  },
  {
   "cell_type": "code",
   "execution_count": 31,
   "id": "f8da31b5-f41c-478a-8f95-a8807aa7787f",
   "metadata": {},
   "outputs": [],
   "source": [
    "model_CNN = CustomCNN().to(device)"
   ]
  },
  {
   "cell_type": "markdown",
   "id": "4ec087e1-99ae-4188-8200-016fb0ad8579",
   "metadata": {},
   "source": [
    "### 6.2 model efficientnet_b0 (Transfer Learning)\n",
    "using pretrained model for out problem"
   ]
  },
  {
   "cell_type": "code",
   "execution_count": 32,
   "id": "0de43203-24d1-4e05-87c9-1595d1fed1c6",
   "metadata": {},
   "outputs": [
    {
     "data": {
      "text/plain": [
       "Sequential(\n",
       "  (0): Dropout(p=0.2, inplace=True)\n",
       "  (1): Linear(in_features=1280, out_features=1000, bias=True)\n",
       ")"
      ]
     },
     "execution_count": 32,
     "metadata": {},
     "output_type": "execute_result"
    }
   ],
   "source": [
    "#best available weights\n",
    "weights = torchvision.models.EfficientNet_B0_Weights.DEFAULT \n",
    "model_effb0 = torchvision.models.efficientnet_b0(weights=weights).to(device)\n",
    "#as default it is for 1000 classes\n",
    "model_effb0.classifier"
   ]
  },
  {
   "cell_type": "code",
   "execution_count": 33,
   "id": "a7b9ea52-9eca-4ce5-a97c-ec158987260d",
   "metadata": {},
   "outputs": [
    {
     "data": {
      "text/plain": [
       "============================================================================================================================================\n",
       "Layer (type (var_name))                                      Input Shape          Output Shape         Param #              Trainable\n",
       "============================================================================================================================================\n",
       "EfficientNet (EfficientNet)                                  [1, 3, 32, 32]       [1, 1000]            --                   True\n",
       "├─Sequential (features)                                      [1, 3, 32, 32]       [1, 1280, 1, 1]      --                   True\n",
       "│    └─Conv2dNormActivation (0)                              [1, 3, 32, 32]       [1, 32, 16, 16]      --                   True\n",
       "│    │    └─Conv2d (0)                                       [1, 3, 32, 32]       [1, 32, 16, 16]      864                  True\n",
       "│    │    └─BatchNorm2d (1)                                  [1, 32, 16, 16]      [1, 32, 16, 16]      64                   True\n",
       "│    │    └─SiLU (2)                                         [1, 32, 16, 16]      [1, 32, 16, 16]      --                   --\n",
       "│    └─Sequential (1)                                        [1, 32, 16, 16]      [1, 16, 16, 16]      --                   True\n",
       "│    │    └─MBConv (0)                                       [1, 32, 16, 16]      [1, 16, 16, 16]      1,448                True\n",
       "│    └─Sequential (2)                                        [1, 16, 16, 16]      [1, 24, 8, 8]        --                   True\n",
       "│    │    └─MBConv (0)                                       [1, 16, 16, 16]      [1, 24, 8, 8]        6,004                True\n",
       "│    │    └─MBConv (1)                                       [1, 24, 8, 8]        [1, 24, 8, 8]        10,710               True\n",
       "│    └─Sequential (3)                                        [1, 24, 8, 8]        [1, 40, 4, 4]        --                   True\n",
       "│    │    └─MBConv (0)                                       [1, 24, 8, 8]        [1, 40, 4, 4]        15,350               True\n",
       "│    │    └─MBConv (1)                                       [1, 40, 4, 4]        [1, 40, 4, 4]        31,290               True\n",
       "│    └─Sequential (4)                                        [1, 40, 4, 4]        [1, 80, 2, 2]        --                   True\n",
       "│    │    └─MBConv (0)                                       [1, 40, 4, 4]        [1, 80, 2, 2]        37,130               True\n",
       "│    │    └─MBConv (1)                                       [1, 80, 2, 2]        [1, 80, 2, 2]        102,900              True\n",
       "│    │    └─MBConv (2)                                       [1, 80, 2, 2]        [1, 80, 2, 2]        102,900              True\n",
       "│    └─Sequential (5)                                        [1, 80, 2, 2]        [1, 112, 2, 2]       --                   True\n",
       "│    │    └─MBConv (0)                                       [1, 80, 2, 2]        [1, 112, 2, 2]       126,004              True\n",
       "│    │    └─MBConv (1)                                       [1, 112, 2, 2]       [1, 112, 2, 2]       208,572              True\n",
       "│    │    └─MBConv (2)                                       [1, 112, 2, 2]       [1, 112, 2, 2]       208,572              True\n",
       "│    └─Sequential (6)                                        [1, 112, 2, 2]       [1, 192, 1, 1]       --                   True\n",
       "│    │    └─MBConv (0)                                       [1, 112, 2, 2]       [1, 192, 1, 1]       262,492              True\n",
       "│    │    └─MBConv (1)                                       [1, 192, 1, 1]       [1, 192, 1, 1]       587,952              True\n",
       "│    │    └─MBConv (2)                                       [1, 192, 1, 1]       [1, 192, 1, 1]       587,952              True\n",
       "│    │    └─MBConv (3)                                       [1, 192, 1, 1]       [1, 192, 1, 1]       587,952              True\n",
       "│    └─Sequential (7)                                        [1, 192, 1, 1]       [1, 320, 1, 1]       --                   True\n",
       "│    │    └─MBConv (0)                                       [1, 192, 1, 1]       [1, 320, 1, 1]       717,232              True\n",
       "│    └─Conv2dNormActivation (8)                              [1, 320, 1, 1]       [1, 1280, 1, 1]      --                   True\n",
       "│    │    └─Conv2d (0)                                       [1, 320, 1, 1]       [1, 1280, 1, 1]      409,600              True\n",
       "│    │    └─BatchNorm2d (1)                                  [1, 1280, 1, 1]      [1, 1280, 1, 1]      2,560                True\n",
       "│    │    └─SiLU (2)                                         [1, 1280, 1, 1]      [1, 1280, 1, 1]      --                   --\n",
       "├─AdaptiveAvgPool2d (avgpool)                                [1, 1280, 1, 1]      [1, 1280, 1, 1]      --                   --\n",
       "├─Sequential (classifier)                                    [1, 1280]            [1, 1000]            --                   True\n",
       "│    └─Dropout (0)                                           [1, 1280]            [1, 1280]            --                   --\n",
       "│    └─Linear (1)                                            [1, 1280]            [1, 1000]            1,281,000            True\n",
       "============================================================================================================================================\n",
       "Total params: 5,288,548\n",
       "Trainable params: 5,288,548\n",
       "Non-trainable params: 0\n",
       "Total mult-adds (M): 9.79\n",
       "============================================================================================================================================\n",
       "Input size (MB): 0.01\n",
       "Forward/backward pass size (MB): 2.28\n",
       "Params size (MB): 21.15\n",
       "Estimated Total Size (MB): 23.45\n",
       "============================================================================================================================================"
      ]
     },
     "execution_count": 33,
     "metadata": {},
     "output_type": "execute_result"
    }
   ],
   "source": [
    "#checking model for sizes of our data\n",
    "summary(model=model_effb0,\n",
    "       input_size=(1,3,32,32),\n",
    "       col_names=[\"input_size\",\"output_size\",\"num_params\",\"trainable\"],\n",
    "       col_width=20,\n",
    "       row_settings=[\"var_names\"])"
   ]
  },
  {
   "cell_type": "markdown",
   "id": "3f51631a-d453-4880-a625-426593f1c2cd",
   "metadata": {},
   "source": [
    "freezing parameters --> prevent them from learning. This will apply to all but classifier layer"
   ]
  },
  {
   "cell_type": "code",
   "execution_count": 34,
   "id": "73367bb3-6b89-46a3-94c8-bf5418b96c78",
   "metadata": {},
   "outputs": [],
   "source": [
    "for p in model_effb0.features.parameters():\n",
    "    p.requires_grad = False"
   ]
  },
  {
   "cell_type": "markdown",
   "id": "bd607692-6208-4229-a798-809b4ca95e06",
   "metadata": {},
   "source": [
    "Adjusting classifier layer for our needs --> 10 classes"
   ]
  },
  {
   "cell_type": "code",
   "execution_count": 35,
   "id": "1db18a7c-3ba5-45bb-856b-74a4d3648ab2",
   "metadata": {},
   "outputs": [],
   "source": [
    "model_effb0.classifier = nn.Sequential(\n",
    "    nn.Dropout(p=0.2, inplace=True), # prevents overfitting -- wyłącza niektóra neurony\n",
    "    nn.Linear(in_features=1280, #feature vector coming in\n",
    "             out_features=len(class_names)), # ilość naszych klas\n",
    ")"
   ]
  },
  {
   "cell_type": "markdown",
   "id": "164684a1-a343-4026-874e-75bda506640e",
   "metadata": {},
   "source": [
    "## 6.2 Looping through all models with different settings"
   ]
  },
  {
   "cell_type": "code",
   "execution_count": 36,
   "id": "9dd766db-c8ec-48b5-89d1-283d209a3c37",
   "metadata": {},
   "outputs": [],
   "source": [
    "df_results = pd.DataFrame(columns=['train_loss','train_acc','test_loss','test_acc','experiment_nr','epoch','ttl_epochs','model','dataloaders','learning_rate','model_specification'])\n",
    "## parameters below to search for best performing model\n",
    "\n",
    "num_epochs = [3,6]\n",
    "learning_rates = [0.001, 0.002]\n",
    "\n",
    "dataloaders = {\"data_10_classes\": [train_dataloader_full_data, test_dataloader_full_data],\n",
    "              \"data_2_classes\": [train_dataloader_binary, test_dataloader_binary]}\n",
    "\n",
    "models = {\"tinyVGG\": model_TinyVGG,\n",
    "         \"CNN\": model_CNN,\n",
    "         \"effb0\": model_effb0}"
   ]
  },
  {
   "cell_type": "code",
   "execution_count": 37,
   "id": "18050fa2-f3e3-4c08-88da-ba543d8e78cf",
   "metadata": {},
   "outputs": [
    {
     "ename": "IndentationError",
     "evalue": "unexpected indent (Temp/ipykernel_50104/800790881.py, line 9)",
     "output_type": "error",
     "traceback": [
      "\u001b[1;36m  File \u001b[1;32m\"C:\\Users\\Piotr\\AppData\\Local\\Temp/ipykernel_50104/800790881.py\"\u001b[1;36m, line \u001b[1;32m9\u001b[0m\n\u001b[1;33m    for epochs in num_epochs:\u001b[0m\n\u001b[1;37m    ^\u001b[0m\n\u001b[1;31mIndentationError\u001b[0m\u001b[1;31m:\u001b[0m unexpected indent\n"
     ]
    }
   ],
   "source": [
    "#start times\n",
    "from timeit import default_timer as timer\n",
    "start_time = timer()\n",
    "\n",
    "experiment_counter = 0\n",
    "for dataloader_name, dataloaders_list in dataloaders.items():\n",
    "    for epochs in num_epochs:\n",
    "        for model_name, model in models.items():\n",
    "            for lr in learning_rates:\n",
    "                experiment_counter+=1\n",
    "                print(f\"[INFO] Experiment Number: {experiment_counter}\")\n",
    "                print(f\"[INFO] Model: {model_name}\")\n",
    "                print(f\"[INFO] DataLoader: {dataloader_name}\")\n",
    "                print(f\"[INFO] Number of Epochs: {epochs}\")\n",
    "                print(f\"[INFO] learning rate : {lr}\")\n",
    "                \n",
    "                #create a new loss and optimizer for every model\n",
    "                loss_fn = nn.CrossEntropyLoss()\n",
    "                optimizer = torch.optim.Adam(params=model.parameters(), lr=lr)\n",
    "                \n",
    "                #train target model with target dataloader and track experiments\n",
    "                results_dict= train_engine.train(model=model,\n",
    "                                    train_dataloader=dataloaders_list[0],\n",
    "                                    test_dataloader=dataloaders_list[1],\n",
    "                                    optimizer=optimizer,\n",
    "                                    loss_fn=loss_fn,\n",
    "                                    epochs=epochs,\n",
    "                                    device=device)\n",
    "                save_filepath = f\"CIFAR10_{model_name}_{dataloader_name}_lr-{lr}_{epochs}_epochs.pth\"\n",
    "                \n",
    "                ## storing results as df.Dataframe object\n",
    "                results_df=pd.DataFrame(results_dict)\n",
    "                results_df['experiment_nr'] = experiment_counter\n",
    "                results_df['epoch'] = results_df.index+1\n",
    "                results_df['ttl_epochs'] = epochs\n",
    "                results_df['model'] = model_name\n",
    "                results_df['dataloaders'] = dataloader_name\n",
    "                results_df['learning_rate'] = lr\n",
    "                results_df['model_specification'] = save_filepath\n",
    "                df_results=pd.concat([df_results,results_df],ignore_index=True)\n",
    "                \n",
    "                #save model to a file\n",
    "                save_model(model=model,\n",
    "                           target_dir=\"models\",\n",
    "                           model_name=save_filepath)\n",
    "                print(\"-\"*50+\"\\n\")\n",
    "\n",
    "end_time = timer()\n",
    "print(f\"[INFO] Total Training time: {end_time-start_time:.3f} seconds\")"
   ]
  },
  {
   "cell_type": "code",
   "execution_count": 38,
   "id": "0d6a39a8-f895-4d5f-b684-30e13e852ea3",
   "metadata": {},
   "outputs": [],
   "source": [
    "#export data to excel\n",
    "df_results.to_excel(OUTPUT/\"RESULTS_.xlsx\", sheet_name=\"results\")"
   ]
  },
  {
   "cell_type": "markdown",
   "id": "4c23b22a-3246-463c-8ac7-f4883f328670",
   "metadata": {},
   "source": [
    "## 7 Visalizing best models"
   ]
  },
  {
   "cell_type": "code",
   "execution_count": 39,
   "id": "0c9ec595-b829-4221-ad47-ca1bc44133c0",
   "metadata": {},
   "outputs": [],
   "source": [
    "#we can work here in previously created df_results or just reload the data from excel\n",
    "df_ws = pd.read_excel(OUTPUT/\"RESULTS.xlsx\", sheet_name=\"results\", index_col=0)"
   ]
  },
  {
   "cell_type": "markdown",
   "id": "7e7c09ab-abc2-4aa7-b2fb-33b227033f4c",
   "metadata": {},
   "source": [
    "### 7.1 picking up best models for each dataloaders"
   ]
  },
  {
   "cell_type": "code",
   "execution_count": 40,
   "id": "916884df-d860-4f77-b906-2ad9f11c6934",
   "metadata": {},
   "outputs": [],
   "source": [
    "#'train_loss', 'train_acc', 'test_loss', 'test_acc'\n",
    "SORT_COLUMN = 'test_acc'"
   ]
  },
  {
   "cell_type": "code",
   "execution_count": 41,
   "id": "d834dead-135f-45a3-a8e8-012fdd523d65",
   "metadata": {},
   "outputs": [
    {
     "data": {
      "text/html": [
       "<div>\n",
       "<style scoped>\n",
       "    .dataframe tbody tr th:only-of-type {\n",
       "        vertical-align: middle;\n",
       "    }\n",
       "\n",
       "    .dataframe tbody tr th {\n",
       "        vertical-align: top;\n",
       "    }\n",
       "\n",
       "    .dataframe thead th {\n",
       "        text-align: right;\n",
       "    }\n",
       "</style>\n",
       "<table border=\"1\" class=\"dataframe\">\n",
       "  <thead>\n",
       "    <tr style=\"text-align: right;\">\n",
       "      <th></th>\n",
       "      <th>model_specification</th>\n",
       "      <th>model</th>\n",
       "      <th>test_acc</th>\n",
       "    </tr>\n",
       "  </thead>\n",
       "  <tbody>\n",
       "    <tr>\n",
       "      <th>30</th>\n",
       "      <td>CIFAR10_CNN_data_10_classes_lr-0.001_6_epochs.pth</td>\n",
       "      <td>CNN</td>\n",
       "      <td>0.746905</td>\n",
       "    </tr>\n",
       "  </tbody>\n",
       "</table>\n",
       "</div>"
      ],
      "text/plain": [
       "                                  model_specification model  test_acc\n",
       "30  CIFAR10_CNN_data_10_classes_lr-0.001_6_epochs.pth   CNN  0.746905"
      ]
     },
     "execution_count": 41,
     "metadata": {},
     "output_type": "execute_result"
    }
   ],
   "source": [
    "#data_10_classes --> train_dataloader_full_data\n",
    "best_result_model_10_classes = df_ws[df_ws[\"dataloaders\"]==\"data_10_classes\"].sort_values(by=[SORT_COLUMN],ascending=False).head(1)[['model_specification','model',SORT_COLUMN]]\n",
    "best_result_model_10_classes"
   ]
  },
  {
   "cell_type": "code",
   "execution_count": 42,
   "id": "749eddc2-b1aa-4841-8409-814d391dd8bc",
   "metadata": {},
   "outputs": [
    {
     "data": {
      "text/html": [
       "<div>\n",
       "<style scoped>\n",
       "    .dataframe tbody tr th:only-of-type {\n",
       "        vertical-align: middle;\n",
       "    }\n",
       "\n",
       "    .dataframe tbody tr th {\n",
       "        vertical-align: top;\n",
       "    }\n",
       "\n",
       "    .dataframe thead th {\n",
       "        text-align: right;\n",
       "    }\n",
       "</style>\n",
       "<table border=\"1\" class=\"dataframe\">\n",
       "  <thead>\n",
       "    <tr style=\"text-align: right;\">\n",
       "      <th></th>\n",
       "      <th>model_specification</th>\n",
       "      <th>model</th>\n",
       "      <th>test_acc</th>\n",
       "    </tr>\n",
       "  </thead>\n",
       "  <tbody>\n",
       "    <tr>\n",
       "      <th>88</th>\n",
       "      <td>CIFAR10_CNN_data_2_classes_lr-0.001_6_epochs.pth</td>\n",
       "      <td>CNN</td>\n",
       "      <td>0.925099</td>\n",
       "    </tr>\n",
       "  </tbody>\n",
       "</table>\n",
       "</div>"
      ],
      "text/plain": [
       "                                 model_specification model  test_acc\n",
       "88  CIFAR10_CNN_data_2_classes_lr-0.001_6_epochs.pth   CNN  0.925099"
      ]
     },
     "execution_count": 42,
     "metadata": {},
     "output_type": "execute_result"
    }
   ],
   "source": [
    "#data_2_classes --> train_dataloader_binary\n",
    "best_result_model_2_classes = df_ws[df_ws[\"dataloaders\"]==\"data_2_classes\"].sort_values(by=[SORT_COLUMN],ascending=False).head(1)[['model_specification','model',SORT_COLUMN]]\n",
    "best_result_model_2_classes"
   ]
  },
  {
   "cell_type": "markdown",
   "id": "a4dbcc57-abc8-448c-a6a2-3eed69585c93",
   "metadata": {},
   "source": [
    "### 7.2 ploting test curve"
   ]
  },
  {
   "cell_type": "code",
   "execution_count": 43,
   "id": "9c081768-f605-40cc-ae77-0956ceef7ee1",
   "metadata": {},
   "outputs": [],
   "source": [
    "#picking up the data for best models\n",
    "#10 classes\n",
    "df_best_result_10_classes = df_ws[df_ws['model_specification']==best_result_model_10_classes['model_specification'].values[0]]\n",
    "df_best_result_10_classes = df_best_result_10_classes[['train_loss', 'train_acc', 'test_loss', 'test_acc','epoch']]\n",
    "\n",
    "#2 classes\n",
    "df_best_result_2_classes = df_ws[df_ws['model_specification']==best_result_model_2_classes['model_specification'].values[0]]\n",
    "df_best_result_2_classes = df_best_result_2_classes[['train_loss', 'train_acc', 'test_loss', 'test_acc','epoch']]"
   ]
  },
  {
   "cell_type": "markdown",
   "id": "a4de2ff1-75cd-483d-accf-4d3152f4f6d5",
   "metadata": {},
   "source": [
    "### 7.3 visualizing CNN 10 classes top model"
   ]
  },
  {
   "cell_type": "code",
   "execution_count": 44,
   "id": "848f9d5a-d76d-4c5a-9fa1-eb7b6c0079e1",
   "metadata": {},
   "outputs": [
    {
     "data": {
      "image/png": "[encoded data removed]",
      "text/plain": [
       "<Figure size 1080x504 with 2 Axes>"
      ]
     },
     "metadata": {
      "needs_background": "light"
     },
     "output_type": "display_data"
    }
   ],
   "source": [
    "plot_loss_curves_from_df(df_best_result_10_classes)"
   ]
  },
  {
   "cell_type": "code",
   "execution_count": 45,
   "id": "7b36b509-77a8-4252-a1ca-02b7f82c9839",
   "metadata": {},
   "outputs": [
    {
     "data": {
      "text/html": [
       "<div>\n",
       "<style scoped>\n",
       "    .dataframe tbody tr th:only-of-type {\n",
       "        vertical-align: middle;\n",
       "    }\n",
       "\n",
       "    .dataframe tbody tr th {\n",
       "        vertical-align: top;\n",
       "    }\n",
       "\n",
       "    .dataframe thead th {\n",
       "        text-align: right;\n",
       "    }\n",
       "</style>\n",
       "<table border=\"1\" class=\"dataframe\">\n",
       "  <thead>\n",
       "    <tr style=\"text-align: right;\">\n",
       "      <th></th>\n",
       "      <th>train_loss</th>\n",
       "      <th>train_acc</th>\n",
       "      <th>test_loss</th>\n",
       "      <th>test_acc</th>\n",
       "      <th>epoch</th>\n",
       "    </tr>\n",
       "  </thead>\n",
       "  <tbody>\n",
       "    <tr>\n",
       "      <th>30</th>\n",
       "      <td>0.478578</td>\n",
       "      <td>0.830994</td>\n",
       "      <td>0.793856</td>\n",
       "      <td>0.746905</td>\n",
       "      <td>1</td>\n",
       "    </tr>\n",
       "    <tr>\n",
       "      <th>31</th>\n",
       "      <td>0.385776</td>\n",
       "      <td>0.864123</td>\n",
       "      <td>0.856496</td>\n",
       "      <td>0.741813</td>\n",
       "      <td>2</td>\n",
       "    </tr>\n",
       "    <tr>\n",
       "      <th>32</th>\n",
       "      <td>0.326177</td>\n",
       "      <td>0.884277</td>\n",
       "      <td>0.893661</td>\n",
       "      <td>0.744409</td>\n",
       "      <td>3</td>\n",
       "    </tr>\n",
       "    <tr>\n",
       "      <th>33</th>\n",
       "      <td>0.272048</td>\n",
       "      <td>0.901711</td>\n",
       "      <td>0.993246</td>\n",
       "      <td>0.741314</td>\n",
       "      <td>4</td>\n",
       "    </tr>\n",
       "    <tr>\n",
       "      <th>34</th>\n",
       "      <td>0.238965</td>\n",
       "      <td>0.913528</td>\n",
       "      <td>1.046029</td>\n",
       "      <td>0.745108</td>\n",
       "      <td>5</td>\n",
       "    </tr>\n",
       "    <tr>\n",
       "      <th>35</th>\n",
       "      <td>0.204479</td>\n",
       "      <td>0.927143</td>\n",
       "      <td>1.133666</td>\n",
       "      <td>0.740116</td>\n",
       "      <td>6</td>\n",
       "    </tr>\n",
       "  </tbody>\n",
       "</table>\n",
       "</div>"
      ],
      "text/plain": [
       "    train_loss  train_acc  test_loss  test_acc  epoch\n",
       "30    0.478578   0.830994   0.793856  0.746905      1\n",
       "31    0.385776   0.864123   0.856496  0.741813      2\n",
       "32    0.326177   0.884277   0.893661  0.744409      3\n",
       "33    0.272048   0.901711   0.993246  0.741314      4\n",
       "34    0.238965   0.913528   1.046029  0.745108      5\n",
       "35    0.204479   0.927143   1.133666  0.740116      6"
      ]
     },
     "execution_count": 45,
     "metadata": {},
     "output_type": "execute_result"
    }
   ],
   "source": [
    "df_best_result_10_classes"
   ]
  },
  {
   "cell_type": "markdown",
   "id": "0c9498fd-a048-4c07-ae68-5215cbd16aa6",
   "metadata": {},
   "source": [
    "### 7.4 visualizing CNN 2 classes top model"
   ]
  },
  {
   "cell_type": "code",
   "execution_count": 46,
   "id": "c23f7f68-7b51-4014-ac76-bc5dd5c1bb64",
   "metadata": {},
   "outputs": [
    {
     "data": {
      "image/png": "[encoded data removed]",
      "text/plain": [
       "<Figure size 1080x504 with 2 Axes>"
      ]
     },
     "metadata": {
      "needs_background": "light"
     },
     "output_type": "display_data"
    }
   ],
   "source": [
    "plot_loss_curves_from_df(df_best_result_2_classes)"
   ]
  },
  {
   "cell_type": "code",
   "execution_count": 47,
   "id": "9d209dc2-4e51-4f30-8bc2-127e52f1bfca",
   "metadata": {},
   "outputs": [
    {
     "data": {
      "text/html": [
       "<div>\n",
       "<style scoped>\n",
       "    .dataframe tbody tr th:only-of-type {\n",
       "        vertical-align: middle;\n",
       "    }\n",
       "\n",
       "    .dataframe tbody tr th {\n",
       "        vertical-align: top;\n",
       "    }\n",
       "\n",
       "    .dataframe thead th {\n",
       "        text-align: right;\n",
       "    }\n",
       "</style>\n",
       "<table border=\"1\" class=\"dataframe\">\n",
       "  <thead>\n",
       "    <tr style=\"text-align: right;\">\n",
       "      <th></th>\n",
       "      <th>train_loss</th>\n",
       "      <th>train_acc</th>\n",
       "      <th>test_loss</th>\n",
       "      <th>test_acc</th>\n",
       "      <th>epoch</th>\n",
       "    </tr>\n",
       "  </thead>\n",
       "  <tbody>\n",
       "    <tr>\n",
       "      <th>84</th>\n",
       "      <td>0.028102</td>\n",
       "      <td>0.990515</td>\n",
       "      <td>0.490756</td>\n",
       "      <td>0.917163</td>\n",
       "      <td>1</td>\n",
       "    </tr>\n",
       "    <tr>\n",
       "      <th>85</th>\n",
       "      <td>0.015605</td>\n",
       "      <td>0.995507</td>\n",
       "      <td>0.522261</td>\n",
       "      <td>0.922123</td>\n",
       "      <td>2</td>\n",
       "    </tr>\n",
       "    <tr>\n",
       "      <th>86</th>\n",
       "      <td>0.020710</td>\n",
       "      <td>0.993411</td>\n",
       "      <td>0.571181</td>\n",
       "      <td>0.910714</td>\n",
       "      <td>3</td>\n",
       "    </tr>\n",
       "    <tr>\n",
       "      <th>87</th>\n",
       "      <td>0.024350</td>\n",
       "      <td>0.992712</td>\n",
       "      <td>0.577467</td>\n",
       "      <td>0.917659</td>\n",
       "      <td>4</td>\n",
       "    </tr>\n",
       "    <tr>\n",
       "      <th>88</th>\n",
       "      <td>0.016273</td>\n",
       "      <td>0.995008</td>\n",
       "      <td>0.452306</td>\n",
       "      <td>0.925099</td>\n",
       "      <td>5</td>\n",
       "    </tr>\n",
       "    <tr>\n",
       "      <th>89</th>\n",
       "      <td>0.018979</td>\n",
       "      <td>0.995108</td>\n",
       "      <td>0.528172</td>\n",
       "      <td>0.920139</td>\n",
       "      <td>6</td>\n",
       "    </tr>\n",
       "  </tbody>\n",
       "</table>\n",
       "</div>"
      ],
      "text/plain": [
       "    train_loss  train_acc  test_loss  test_acc  epoch\n",
       "84    0.028102   0.990515   0.490756  0.917163      1\n",
       "85    0.015605   0.995507   0.522261  0.922123      2\n",
       "86    0.020710   0.993411   0.571181  0.910714      3\n",
       "87    0.024350   0.992712   0.577467  0.917659      4\n",
       "88    0.016273   0.995008   0.452306  0.925099      5\n",
       "89    0.018979   0.995108   0.528172  0.920139      6"
      ]
     },
     "execution_count": 47,
     "metadata": {},
     "output_type": "execute_result"
    }
   ],
   "source": [
    "df_best_result_2_classes"
   ]
  },
  {
   "cell_type": "markdown",
   "id": "a8769f7f-09d9-429e-8b58-14bf116d65e0",
   "metadata": {},
   "source": [
    "## 8 Load best model (10 class) and evaluating it on random pictures"
   ]
  },
  {
   "cell_type": "markdown",
   "id": "57060548-0b39-4037-9129-2cf2eccd6d92",
   "metadata": {},
   "source": [
    "### 8.1 loading best model (10 classes)from MODELS/"
   ]
  },
  {
   "cell_type": "code",
   "execution_count": 67,
   "id": "ff77c47d-9c82-4d7d-a7fe-3a1772994468",
   "metadata": {},
   "outputs": [],
   "source": [
    "loaded_model = models[best_result_model_10_classes['model'].values[0]]"
   ]
  },
  {
   "cell_type": "code",
   "execution_count": 68,
   "id": "4d4291f7-3e86-4708-bce0-8a38936066c2",
   "metadata": {},
   "outputs": [],
   "source": [
    "best_model_10_path = MODELS / best_result_model_10_classes['model_specification'].values[0]"
   ]
  },
  {
   "cell_type": "code",
   "execution_count": 69,
   "id": "61b45db7-e2dc-4b97-af32-f0a97c37259e",
   "metadata": {},
   "outputs": [
    {
     "data": {
      "text/plain": [
       "<All keys matched successfully>"
      ]
     },
     "execution_count": 69,
     "metadata": {},
     "output_type": "execute_result"
    }
   ],
   "source": [
    "loaded_model.load_state_dict(torch.load(f=best_model_10_path))"
   ]
  },
  {
   "cell_type": "markdown",
   "id": "ad233ed8-1bd8-4fe6-8756-9fa188f98933",
   "metadata": {},
   "source": [
    "### 8.2 picking 9 samples pictures at random for predictions"
   ]
  },
  {
   "cell_type": "code",
   "execution_count": 70,
   "id": "af034a19-05b4-4762-8b45-94ebeab966b4",
   "metadata": {},
   "outputs": [],
   "source": [
    "test_samples= []\n",
    "test_labels = []\n",
    "\n",
    "for sample, label in random.sample(list(test_data),k=9):\n",
    "    test_samples.append(sample)\n",
    "    test_labels.append(label)"
   ]
  },
  {
   "cell_type": "markdown",
   "id": "43b7b1fd-53e5-489f-a302-68fed7d8521d",
   "metadata": {},
   "source": [
    "### 8.3 making predictions"
   ]
  },
  {
   "cell_type": "code",
   "execution_count": 71,
   "id": "a5217433-6aea-4dec-92a2-9e7c89e5d568",
   "metadata": {},
   "outputs": [
    {
     "data": {
      "text/plain": [
       "tensor([9, 8, 1, 4, 3, 9, 5, 1, 7])"
      ]
     },
     "execution_count": 71,
     "metadata": {},
     "output_type": "execute_result"
    }
   ],
   "source": [
    "#make predictions\n",
    "pred_probs = make_predictions(model=loaded_model,data=test_samples, device=device)\n",
    "#converting prediction probs to labels\n",
    "pred_classes = pred_probs.argmax(dim=1)\n",
    "pred_classes"
   ]
  },
  {
   "cell_type": "code",
   "execution_count": 72,
   "id": "c2a5e31a-f32e-4344-bebe-a30efda0b9a2",
   "metadata": {},
   "outputs": [
    {
     "data": {
      "text/plain": [
       "[9, 8, 8, 7, 3, 9, 5, 1, 7]"
      ]
     },
     "execution_count": 72,
     "metadata": {},
     "output_type": "execute_result"
    }
   ],
   "source": [
    "test_labels"
   ]
  },
  {
   "cell_type": "code",
   "execution_count": 73,
   "id": "301a088a-b79f-45e2-8c91-009d45057ab6",
   "metadata": {},
   "outputs": [
    {
     "name": "stderr",
     "output_type": "stream",
     "text": [
      "Clipping input data to the valid range for imshow with RGB data ([0..1] for floats or [0..255] for integers).\n",
      "Clipping input data to the valid range for imshow with RGB data ([0..1] for floats or [0..255] for integers).\n",
      "Clipping input data to the valid range for imshow with RGB data ([0..1] for floats or [0..255] for integers).\n",
      "Clipping input data to the valid range for imshow with RGB data ([0..1] for floats or [0..255] for integers).\n",
      "Clipping input data to the valid range for imshow with RGB data ([0..1] for floats or [0..255] for integers).\n",
      "Clipping input data to the valid range for imshow with RGB data ([0..1] for floats or [0..255] for integers).\n",
      "Clipping input data to the valid range for imshow with RGB data ([0..1] for floats or [0..255] for integers).\n",
      "Clipping input data to the valid range for imshow with RGB data ([0..1] for floats or [0..255] for integers).\n",
      "Clipping input data to the valid range for imshow with RGB data ([0..1] for floats or [0..255] for integers).\n"
     ]
    },
    {
     "data": {
      "image/png": "[encoded data removed]",
      "text/plain": [
       "<Figure size 648x648 with 9 Axes>"
      ]
     },
     "metadata": {
      "needs_background": "light"
     },
     "output_type": "display_data"
    }
   ],
   "source": [
    "plt.figure(figsize=(9,9))\n",
    "nrows = 3\n",
    "ncols = 3\n",
    "for i, sample in enumerate(test_samples):\n",
    "    #create a sublot\n",
    "    plt.subplot(nrows, ncols, i+1)\n",
    "    \n",
    "    sample = sample.permute(1,2,0)\n",
    "    #plot the target image\n",
    "    plt.imshow(sample.squeeze())\n",
    "    \n",
    "    #find the prediction (in text form eg Sandal)\n",
    "    pred_label = class_names[pred_classes[i]]\n",
    "    \n",
    "    #get the truth label (in text form)\n",
    "    truth_label = class_names[test_labels[i]]\n",
    "    \n",
    "    #create a title for the plot\n",
    "    title_text = f\"Pred: {pred_label} | Truth: {truth_label}\"\n",
    "    \n",
    "    #check for equality between pred and truth and change color of title text\n",
    "    if pred_label == truth_label:\n",
    "        plt.title(title_text, fontsize=10, c=\"g\")\n",
    "    else:\n",
    "        plt.title(title_text, fontsize=10, c=\"r\")\n",
    "        \n",
    "    plt.axis(False)"
   ]
  },
  {
   "cell_type": "markdown",
   "id": "abd9c7fe-6515-45d7-b28e-3d1fd3aea39d",
   "metadata": {},
   "source": [
    "## x. Notes"
   ]
  },
  {
   "cell_type": "code",
   "execution_count": 74,
   "id": "24302465-2970-465f-9126-63e8466c715c",
   "metadata": {},
   "outputs": [],
   "source": [
    "#instead of my plotting method i could use tensorboard"
   ]
  }
 ],
 "metadata": {
  "kernelspec": {
   "display_name": "Python 3 (ipykernel)",
   "language": "python",
   "name": "python3"
  },
  "language_info": {
   "codemirror_mode": {
    "name": "ipython",
    "version": 3
   },
   "file_extension": ".py",
   "mimetype": "text/x-python",
   "name": "python",
   "nbconvert_exporter": "python",
   "pygments_lexer": "ipython3",
   "version": "3.9.7"
  }
 },
 "nbformat": 4,
 "nbformat_minor": 5
}
